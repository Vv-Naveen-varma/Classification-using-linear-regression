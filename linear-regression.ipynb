{
 "cells": [
  {
   "cell_type": "markdown",
   "metadata": {},
   "source": [
    "## Classification using Linear regression model\n",
    "### Theory:\n",
    "A line can be represented as \n",
    "w1x1 + w2x2 + b = 0\n",
    "where w1, w2 are weights which dictate a slope and b is the bias\n",
    "* These weights start out as random values. So, we are just going to have a random line which does not classify our data correctly.\n",
    "* But as the neural network learns more about what kind of output data its dealing with it will adjust the weights based on the output errors that resulted in categorizing the data with previous weights, until it comes up with a better model.So, how do we do this?\n",
    "* We use Sigmoid function to predict continuos probabilities for each point.\n",
    "* Using these probabilities we calculate the error with Cross Entropy [It is an error function used to calculate the total error associated with our linear model, the more incorrect our model in separating our data more the entropy value, thus larger the error]\n",
    "* We use gradient descent, which keeps minimizing the error, doing so obtaining the linear model."
   ]
  },
  {
   "cell_type": "code",
   "execution_count": 13,
   "metadata": {},
   "outputs": [],
   "source": [
    "import numpy as np\n",
    "import matplotlib.pyplot as plt\n",
    "\n",
    "def draw(x1, x2):\n",
    "    ln = plt.plot(x1,x2)\n",
    "    \n",
    "def sigmoid(score):\n",
    "    return 1/(1 + np.exp(-score))\n",
    "\n",
    "def calculate_error(line_parameters, points, y):\n",
    "    m = points.shape[0]\n",
    "    p = sigmoid(points*line_parameters) # probabilities of each point being in the positive region\n",
    "    cross_entropy = -(1/m)*(np.log(p).T * y + np.log(1-p).T*(1-y))\n",
    "    return cross_entropy\n",
    "\n",
    "def gradient_descent(line_parameters, points, y , alpha):\n",
    "    m = points.shape[0]\n",
    "    for i in range(500):\n",
    "        p = p = sigmoid(points*line_parameters)\n",
    "        gradient = (points.T * (p - y))*(alpha/m)\n",
    "        line_parameters = line_parameters - gradient\n",
    "        w1 = line_parameters.item(0)\n",
    "        w2 = line_parameters.item(1)\n",
    "        b = line_parameters.item(2)\n",
    "        x1 = np.array([bottom_region[:, 0].min(),top_region[:, 0].max()]) \n",
    "        x2 = -b/w2+x1*(-w1/w2) # derived from w1x1 + w2x2 + b = 0 we get x2 = -b/w2 + x1 * (-w1/w2)\n",
    "    draw(x1, x2)"
   ]
  },
  {
   "cell_type": "code",
   "execution_count": 14,
   "metadata": {},
   "outputs": [
    {
     "data": {
      "image/png": "[encoded data removed]",
      "text/plain": [
       "<Figure size 288x288 with 1 Axes>"
      ]
     },
     "metadata": {
      "needs_background": "light"
     },
     "output_type": "display_data"
    }
   ],
   "source": [
    "# Generating random horizontal and vertical coordinates\n",
    "# we have 100 points at the bottom and top regions each one with x1 and x2 coordinates\n",
    "# random_x1_values denotes how the points are distributed horizontally\n",
    "# random_x2_values denotes how the points are distributed vertically\n",
    "\n",
    "n_pts = 100 # no of points\n",
    "bias = np.ones(n_pts)\n",
    "np.random.seed(0) # generates same set of random numbers every time we run\n",
    "random_x1_values = np.random.normal(10, 2, n_pts) # (mean = 10,standard deviation = 2) # normally distributed numbers\n",
    "random_x2_values = np.random.normal(12, 2, n_pts) \n",
    "top_region = np.array([random_x1_values, random_x2_values, bias]).T # Transpose\n",
    "bottom_region = np.array([np.random.normal(5, 2, n_pts), np.random.normal(6, 2, n_pts), bias]).T\n",
    "all_points = np.vstack((top_region, bottom_region)) # contains x1,x2 bias as array\n",
    "line_parameters = np.matrix(np.matrix([np.zeros(3)])).T\n",
    "y = np.array([np.zeros(n_pts), np.ones(n_pts)]).reshape(n_pts*2, 1)\n",
    "\n",
    "_ ,ax = plt.subplots(figsize=(4, 4))\n",
    "ax.scatter(bottom_region[:, 0], bottom_region[:, 1], color='b')\n",
    "ax.scatter(top_region[:, 0], top_region[:, 1], color='r')\n",
    "gradient_descent(line_parameters, all_points, y, 0.06) # alpha 0.06 also called learning value\n",
    "plt.show()"
   ]
  },
  {
   "cell_type": "code",
   "execution_count": null,
   "metadata": {},
   "outputs": [],
   "source": []
  },
  {
   "cell_type": "code",
   "execution_count": null,
   "metadata": {},
   "outputs": [],
   "source": []
  }
 ],
 "metadata": {
  "kernelspec": {
   "display_name": "Python 3",
   "language": "python",
   "name": "python3"
  },
  "language_info": {
   "codemirror_mode": {
    "name": "ipython",
    "version": 3
   },
   "file_extension": ".py",
   "mimetype": "text/x-python",
   "name": "python",
   "nbconvert_exporter": "python",
   "pygments_lexer": "ipython3",
   "version": "3.8.3"
  }
 },
 "nbformat": 4,
 "nbformat_minor": 4
}
